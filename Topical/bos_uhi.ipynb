{
 "cells": [
  {
   "cell_type": "markdown",
   "metadata": {},
   "source": [
    "---\n",
    "format: \n",
    "  html:\n",
    "    toc: true\n",
    "execute:\n",
    "  echo: true\n",
    "---"
   ]
  },
  {
   "cell_type": "markdown",
   "metadata": {},
   "source": [
    "# Boston: The Green Space, Blue Space, and Urban Heat Island\n",
    "\n",
    "In this study, I explore the mitigating effects of green and blue spaces on **Urban Heat Islands (UHIs)** in Boston.\n",
    "This research is driven by the growing concern over UHIs, where urban areas experience higher temperatures than\n",
    "their rural counterparts, exacerbating heatwaves. \n",
    "\n",
    "Boston, with its rich mix of historical, commercial, and natural\n",
    "landscapes, serves as an ideal case study for assessing how parks, rivers, and the ocean contribute to cooling urban\n",
    "environments. \n",
    "\n",
    "My findings aim to provide actionable insights for urban planning, emphasizing the critical role of integrating green and blue spaces in urban se ttings to combat the UHI effect."
   ]
  },
  {
   "cell_type": "markdown",
   "metadata": {},
   "source": [
    "## Storymap"
   ]
  },
  {
   "cell_type": "code",
   "execution_count": 1,
   "metadata": {},
   "outputs": [
    {
     "name": "stderr",
     "output_type": "stream",
     "text": [
      "/Users/gigisung/anaconda3/envs/eda/lib/python3.12/site-packages/IPython/core/display.py:431: UserWarning: Consider using IPython.display.IFrame instead\n",
      "  warnings.warn(\"Consider using IPython.display.IFrame instead\")\n"
     ]
    },
    {
     "data": {
      "text/html": [
       "<iframe src=\"https://storymaps.arcgis.com/stories/711800e5c4344477b14ebe381dcf7759\" width=\"100%\" height=\"500px\" frameborder=\"0\" allowfullscreen allow=\"geolocation\"></iframe>"
      ],
      "text/plain": [
       "<IPython.core.display.HTML object>"
      ]
     },
     "metadata": {},
     "output_type": "display_data"
    }
   ],
   "source": [
    "from IPython.display import display, HTML\n",
    "\n",
    "# Define the HTML code for the iframe\n",
    "iframe_html = '<iframe src=\"https://storymaps.arcgis.com/stories/711800e5c4344477b14ebe381dcf7759\" width=\"100%\" height=\"500px\" frameborder=\"0\" allowfullscreen allow=\"geolocation\"></iframe>'\n",
    "\n",
    "# Display the iframe\n",
    "display(HTML(iframe_html))\n"
   ]
  },
  {
   "cell_type": "markdown",
   "metadata": {},
   "source": [
    "## Introduction\n",
    "\n",
    "### Urban Heat Islands: A Growing Concern\n",
    "In the heart of Boston, as in many cities around the world, urban heat islands (UHIs) are a growing concern. These areas can be several degrees hotter than surrounding rural areas because buildings, roads, and pavement absorb and trap heat. This can worsen heatwaves, making them more intense and longer-lasting (Environmental Protection Agency, 2023). The good news is that there's a natural solution: urban green spaces like parks and blue spaces like rivers and lakes can help cool cities down. Studies have shown that these areas can significantly lower temperatures, providing much-needed relief during hot weather (The Nature Conservancy, 2023).\n",
    "\n",
    "### Study Area\n",
    "#### Boston\n",
    "Boston, with its intricate blend of history and modernity, serves as a fascinating urban tapestry that showcases a unique convergence of architectural heritage, bustling commercial hubs, and lush green spaces. As the largest city in New England and one of the oldest cities in the United States, founded in 1630, Boston has evolved into a vibrant urban center that reflects a deliberate balance between development and preservation (Kennedy, 1994). The city's landscape is marked by a variety of land uses, presenting an intriguing mix of densely populated residential areas, thriving business districts, and significant historical sites.\n",
    "\n",
    "Central to Boston's urban green infrastructure is the Boston Common, the oldest city park in the United States, established in 1634. Alongside the adjacent Public Garden, it forms the heart of the city's green spaces, offering residents and visitors alike a verdant escape from the urban environment (Seasholes, 2003). Further enriching Boston's green landscape is the Emerald Necklace, a 1,100-acre chain of parks linked by parkways and waterways. Designed in the late 19th century by Frederick Law Olmsted, the father of American landscape architecture, this system of parks extends from Boston Common to Franklin Park, weaving through the city and exemplifying urban planning that integrates natural and built environments [^1]."
   ]
  },
  {
   "cell_type": "markdown",
   "metadata": {},
   "source": [
    "[^1]: https://storymaps.arcgis.com/stories/7942e99f4f344ca083422b302e03f3ce\n"
   ]
  },
  {
   "cell_type": "markdown",
   "metadata": {},
   "source": [
    "Moreover, Boston's geographical setting along the Massachusetts Bay, with the Charles River winding through the city, adds a critical blue dimension to its urban fabric. The Charles River Esplanade, an iconic park along the river's Boston bank, not only provides scenic beauty and recreational opportunities but also plays a vital role in the city's ecological health. The river itself has undergone significant restoration efforts, transforming it from a polluted waterway to a vibrant aquatic habitat and recreational resource, illustrating successful urban water management (EPA Charles River, 2020) [^2].  "
   ]
  },
  {
   "cell_type": "markdown",
   "metadata": {},
   "source": [
    "[^2]: https://www.epa.gov/charlesriver/about-charles-river"
   ]
  },
  {
   "cell_type": "markdown",
   "metadata": {},
   "source": [
    "The diversity in Boston's land use, characterized by its blend of historical sites, modern urban areas, expansive green spaces, and significant water bodies, positions it as an exemplary case study for exploring urban environmental dynamics. The city's efforts to maintain and enhance its parks and waterfronts reflect a broader commitment to sustainability and resilience in the face of climate change challenges. As such, examining the cooling effects of Boston's parks and water bodies can provide valuable insights into the role of urban green and blue spaces in mitigating the urban heat island effect, offering lessons that can be applied in other urban contexts.\n",
    "\n"
   ]
  },
  {
   "cell_type": "markdown",
   "metadata": {},
   "source": [
    "## Methodology\n",
    "\n",
    "I adopted a methodology that combines Landsat8 satellite imagery and GIS data to assess ***the relationship between the proximity and size of green and blue spaces and urban temperatures*** in Boston. By drawing from and adapting the methodology of [Park Jong-Hwa & Cho Gi-Hyoug (2016)](https://www.researchgate.net/publication/310474426_Influence_of_park_size_on_the_park_cooling_effect_-_Focused_on_Ilsan_new_town_in_Korea), my study specifically focuses on Land Surface Temperature (LST) as the quantifiable measure of UHIs. Notably, I excluded Digital Elevation Model (DEM) data due to Boston’s relatively flat terrain and instead emphasized the importance of proximity to water bodies. Variables such as Land\n",
    "Use, NDVI, NDBI, and Albedo were controlled to isolate their effects on urban temperatures. My approach involves processing Landsat 8 satellite imagery to derive environmental indicators and reclassifying land use within Boston to understand how urban green and blue spaces impact urban heat.\n",
    "\n",
    "### Overview\n",
    "\n",
    "In this study, adopted was a comprehensive approach to understanding urban heat islands (UHIs) in Boston, employing satellite imagery and Massachusetts GIS databases. By calculating the distances from urban areas to these natural spaces and categorizing their sizes, I was able to  ***assess how proximity to and the size of parks and water bodies correlate with urban temperatures***. In other words, I used multi-regression model to explain how environmental and institutional factors contribute to UHI.\n",
    "\n",
    "\n",
    "Specifically, I focused on ***Land Surface Temperature (LST) as a quantifiable measure of UHIs***, drawing on the methodology established by *Park, Jong-Hwa, & Cho, Gi-Hyoug (2016)* in their  study [\"Influence of park size on the park cooling effect - Focused on Ilsan new town in Korea,\"](https://www.researchgate.net/publication/310474426_Influence_of_park_size_on_the_park_cooling_effect_-_Focused_on_Ilsan_new_town_in_Korea) published in the Journal of Korea Planning Association.\n",
    "\n",
    "\n",
    "While this research is inspired by Park and Cho's (2016) investigation into the cooling effects of park size in Ilsan, South Korea, there are notable adaptations in this approach to suit the unique urban and geographical context of Boston. Unlike Ilsan, where variations in elevation (DEM - Digital Elevation Model data) play a significant role in the study due to the town's more pronounced topographical variations, ***Boston's relatively flat terrain led to omit DEM as a variable***. This decision was based on the understanding that Boston's elevation changes are not as drastic and are unlikely to significantly impact LST in the manner observed in Ilsan.\n",
    "\n",
    "\n",
    "Additionally, this research expands the scope to ***include the influence of proximity to water bodies on urban cooling***, acknowledging the substantial role that urban blue spaces play alongside green spaces in mitigating heat. In doing so, this study recognize the unique characteristics of Boston's geography, particularly its adjacency to the Atlantic Ocean and the presence of significant water bodies such as the Charles River. However, I did ***not account for the size of water bodies*** in this analysis. The rationale behind this decision stems from the practical consideration that the vast expanse of the Atlantic Ocean and the variability in the size of local water bodies present challenges in quantifying their direct impact on LST using the same methodology applied to urban parks. Instead, the focus on distance from water bodies aims to capture the general cooling influence that proximity to blue spaces has on the urban thermal environment."
   ]
  },
  {
   "cell_type": "markdown",
   "metadata": {},
   "source": [
    "### Data Prep\n",
    "Utilizing satellite imagery and vector resources was instrumental in deriving key environmental indicators such as Land Surface Temperature (LST), Normalized Difference Vegetation Index (NDVI), Normalized Difference Built-up Index (NDBI), and Albedo, alongside mapping the spatial distribution of water bodies and reclassifying land use within the study area.\n",
    "\n",
    "The primary data source was the Landsat 8 satellite, accessible via the Google Earth Engine (GEE) platform, which offers an extensive archive of global satellite imagery. For this study, I focused on imagery collected during the warmer months of May 1 to September 15, 2023, to capture the peak of the UHI effect. The Landsat 8 imagery, specifically the Operational Land Imager (OLI) and Thermal Infrared Sensor (TIRS) data, provided the necessary spectral bands to calculate LST, NDVI, NDBI, and Albedo."
   ]
  },
  {
   "cell_type": "markdown",
   "metadata": {},
   "source": [
    "<div style=\"padding-left: 30px;\">\n",
    "\n",
    "#### Land Surface Temperature (LST) \n",
    "\n",
    "[LST processing Google Earth Engine code script is here.](https://code.earthengine.google.com/2d025a169d188d2b3c2b45c2c2b5bf8c)\n",
    "    \n",
    "\n",
    "\n",
    "LST is crucial for understanding the heat emanating from the Earth's surface, particularly in urban areas. The calculation of LST from Landsat 8 involves using the thermal infrared sensor (TIRS) bands. Here is a simplified version of the LST calculation process:\n",
    "\n",
    "1. Convert Digital Numbers (DN) to Top of Atmosphere (TOA) Radiance:\n",
    "\n",
    "> <code>L<sub>λ</sub> = M<sub>L</sub> × Q<sub>cal</sub> + A<sub>L</sub></code>\n",
    "\n",
    "  - <code>L<sub>λ</sub></code>: TOA radiance\n",
    "  - <code>M<sub>L</sub></code>: Band-specific multiplicative rescaling factor (from metadata)\n",
    "  - <code>Q<sub>cal</sub></code>: Quantized and calibrated standard product pixel values (DN)\n",
    "  - <code>A<sub>L</sub></code>: Band-specific additive rescaling factor (from metadata)\n",
    "\n",
    "2. Convert TOA Radiance to Brightness Temperature:\n",
    "\n",
    "> <code>T = K<sub>2</sub> / ln((K<sub>1</sub> / L<sub>λ</sub>) + 1)</code>\n",
    "\n",
    " - <code>T</code>: Brightness temperature in Kelvin\n",
    " - <code>K<sub>1</sub></code>, <code>K<sub>2</sub></code>: Calibration constants for each TIRS band\n",
    " - <code>ln</code>: Natural logarithm\n",
    "\n",
    "\n",
    "3. Convert Brightness Temperature to Land Surface Temperature:\n",
    "\n",
    "The actual LST calculation requires additional corrections for emissivity, which can be complex and context-specific. A simplified formula does not account for these factors accurately but provides a basis for understanding the process.\n",
    "\n",
    "![The distribution of LST pixel values.](images/lst_dist.svg)  \n",
    "*The distribution of LST pixel values. The two peaks indicate two populations, most likely the land and the ocean.*\n",
    "\n",
    "#### Albedo\n",
    "\n",
    "[Albedo, NDVI, and NDBI processing Google Earth Engine code script is here.](https://code.earthengine.google.com/7e4fa974b159ea55da7738f206d2a330)\n",
    "\n",
    "Albedo, the measure of reflectance or reflectivity of the Earth's surface, can be estimated using visible and near-infrared (NIR) bands. For Landsat 8, a simplified formula might look like this:\n",
    "\n",
    "> <code>Albedo = (0.356*B2 + 0.130*B4 + 0.373*B5 + 0.085*B6 + 0.072*B7 - 0.0018) / (0.356 + 0.130 + 0.373 + 0.085 + 0.072)</code>\n",
    "\n",
    "Where B2, B4, B5, B6, and B7 are TOA reflectance values for the blue, red, NIR, SWIR1, and SWIR2 bands, respectively.\n",
    "\n",
    "#### Normalized Difference Vegetation Index (NDVI)\n",
    "\n",
    "NDVI is a widely used index to gauge vegetation health and coverage. It is calculated as:\n",
    "\n",
    "> <code>NDVI = (NIR - Red) / (NIR + Red)</code>\n",
    "\n",
    "For Landsat 8, NIR is represented by band 5, and Red by band 4. The NDVI values range from -1 to 1, where higher values indicate healthier vegetation.\n",
    "\n",
    "\n",
    "#### Normalized Difference Built-up Index (NDBI)\n",
    "\n",
    "NDBI helps identify built-up areas, contrasting them with natural landscapes. It is calculated as:\n",
    "\n",
    "> <code>NDBI = (SWIR - NIR) / (SWIR + NIR)</code>\n",
    "\n",
    "For Landsat 8, SWIR is represented by band 6, and NIR by band 5. Higher NDBI values indicate more built-up areas.\n",
    "\n",
    "#### Water Bodies and Land Use Classification\n",
    "\n",
    "In the absence of readily available vector data for water bodies unlike the detailed park datasets, I leveraged satellite imagery. Utilizing the Google Earth Engine (GEE) platform, I first deployed a Landsat 8 image composite for the period between May 1 and September 15, 2023, focusing on true color visualization to accurately identify water bodies alongside urban and green areas. Through supervised classification techniques, I combined manually labeled training data representing urban, green, and water classes to develop a classification model. The classification  yielded a detailed land cover map, highlighting the distribution of water bodies, urban areas, and green spaces at a 30-meter resolution. The water pixels were then turned into polygon using ESRI's \"Raster to Polygon\" tool. In doing so, I could calculate the distance to water bodies from each grid cell using \"Near\" geoprocessing tool.\n",
    "\n",
    "[Land cover classification using supervised classification in GEE. The Script is available here.](https://code.earthengine.google.com/dc174ab8ab14c2cb0b44103746fe2e56) \n",
    "\n",
    "For land use, this study relied on Massachusetts GIS (MassGIS) data. I took 201 land use codes and reclassified them into 9 categories, which are: 'Residential_Low', 'Residential_Medium', 'Residential_High', 'Residential_Mixed', 'Residential_Vacant', 'Commercial', 'Industrial', 'Open Space', and 'Other'\n",
    "\n",
    "[Land use reclassification python template is available here.](https://github.com/gigisung0503/urban_heat_island/blob/3234bbd9a85c7934c0cc96e935341375c68fb821/landuse_reclassification.ipynb)\n",
    "\n",
    "#### 30 by 30 Square Grid Cells\n",
    "\n",
    "By dividing Boston into 30 by 30 meter square grids, we essentially create a matrix of 'bins' across the city's landscape, each bin acting as a container for both raster (e.g., satellite imagery for LST, NDVI, NDBI, and Albedo) and vector (e.g., park polygons, water bodies, land use categories) data. This binning approach allows us to aggregate and analyze environmental data at a fine spatial resolution, corresponding to the Landsat 8 satellite imagery's resolution. Each square grid, or bin, serves as an individual unit of analysis in our regression modeling.\n",
    "\n",
    "#### Aggregated Environmental Factors on Grid Cells\n",
    "\n",
    "Finally, when aggregated to the square grid cells, each factor looks like the following:\n",
    "\n",
    "Average Land Surface Temperature (LST)\n",
    "\n",
    "![Average LST](../images/uhi/avg_lst.png)\n",
    "\n",
    "The average LST map displays the spatial distribution of surface heat across Boston. Higher temperatures, depicted in warmer colors, often correlate with urbanized areas lacking vegetative cover. This visual aggregation highlights hotspots within the city, providing a clear representation of UHI effects. We can clearly see the divide in LST average values in between greeneries and built-up areas. \n",
    "\n",
    "\n",
    "</div>"
   ]
  },
  {
   "cell_type": "markdown",
   "metadata": {},
   "source": []
  },
  {
   "cell_type": "markdown",
   "metadata": {},
   "source": [
    "--------------------\n",
    "What variables do we want to control?\n",
    "\n",
    "**Land Use**\n",
    "Rationale: Different land use categories (e.g., residential, commercial, industrial) have distinct physical and material characteristics that influence surface temperatures. For example, industrial areas might have more impervious surfaces, leading to higher temperatures compared to residential areas with more vegetation.\n",
    "\n",
    "**NDVI (Normalized Difference Vegetation Index)**\n",
    "Rationale: NDVI measures vegetation health and density, which are directly linked to cooling through evapotranspiration and shading. Higher NDVI values typically correspond to cooler surface temperatures.\n",
    "\n",
    "**NDBI (Normalized Difference Built-up Index)**\n",
    "Rationale: NDBI highlights the extent of built-up areas, which are associated with higher surface temperatures due to materials like concrete and asphalt that retain heat.\n",
    "\n",
    "**Albedo**\n",
    "Rationale: Albedo represents the reflectivity of surfaces, with higher albedo surfaces reflecting more solar radiation and thus absorbing less heat. Variations in albedo across different urban surfaces can significantly affect local temperatures.\n"
   ]
  },
  {
   "cell_type": "markdown",
   "metadata": {},
   "source": []
  }
 ],
 "metadata": {
  "kernelspec": {
   "display_name": "eda",
   "language": "python",
   "name": "python3"
  },
  "language_info": {
   "codemirror_mode": {
    "name": "ipython",
    "version": 3
   },
   "file_extension": ".py",
   "mimetype": "text/x-python",
   "name": "python",
   "nbconvert_exporter": "python",
   "pygments_lexer": "ipython3",
   "version": "3.12.0"
  }
 },
 "nbformat": 4,
 "nbformat_minor": 2
}
